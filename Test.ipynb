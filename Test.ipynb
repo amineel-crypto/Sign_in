{
 "cells": [
  {
   "cell_type": "code",
   "execution_count": null,
   "id": "074b8c30",
   "metadata": {},
   "outputs": [],
   "source": [
    "import pandas as pd\n",
    "import numpy as np\n",
    "from pyspark.sql import SparkSession\n",
    "\n",
    "# Generate large synthetic pandas DataFrame\n",
    "df_pandas = pd.DataFrame({\n",
    "    \"id\": np.arange(10_000_000),\n",
    "    \"value\": np.random.rand(10_000_000)\n",
    "})\n",
    "\n",
    "spark = SparkSession.builder.appName(\"BigData\").getOrCreate()\n",
    "df_spark = spark.createDataFrame(df_pandas)\n",
    "df_spark.write.parquet(\"/tmp/bigdata\")"
   ]
  }
 ],
 "metadata": {
  "kernelspec": {
   "display_name": "Weathervenv",
   "language": "python",
   "name": "python3"
  },
  "language_info": {
   "codemirror_mode": {
    "name": "ipython",
    "version": 3
   },
   "file_extension": ".py",
   "mimetype": "text/x-python",
   "name": "python",
   "nbconvert_exporter": "python",
   "pygments_lexer": "ipython3",
   "version": "3.13.3"
  }
 },
 "nbformat": 4,
 "nbformat_minor": 5
}
